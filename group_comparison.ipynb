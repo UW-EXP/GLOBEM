{
 "cells": [
  {
   "cell_type": "code",
   "execution_count": 1,
   "id": "21d6225c",
   "metadata": {},
   "outputs": [],
   "source": [
    "import csv\n",
    "import json\n",
    "import numpy as np\n",
    "import pandas as pd\n",
    "import seaborn as sns\n",
    "from scipy import stats\n",
    "import matplotlib.pyplot as plt\n",
    "import matplotlib.ticker as ticker\n",
    "import matplotlib.patches as mpatches\n",
    "%matplotlib inline\n",
    "sns.set(style=\"whitegrid\")"
   ]
  },
  {
   "cell_type": "code",
   "execution_count": 2,
   "id": "9136de45",
   "metadata": {},
   "outputs": [],
   "source": [
    "phase = '2'\n",
    "root_path = f\"/Users/han/Desktop/UW/GLOBEM/GLOBEM_Datasets_NeurIPS22/INS-W_{phase}/\"\n",
    "demo_data_path = root_path + \"SurveyData/demo.csv\"\n",
    "dep_data_path = root_path + \"SurveyData/dep_weekly_.csv\"\n",
    "dep_bdi_data_path = root_path + \"SurveyData/dep_endterm.csv\"\n",
    "ema_collection_time_path = root_path + \"configs/ema-collection_time.json\""
   ]
  },
  {
   "cell_type": "code",
   "execution_count": 3,
   "id": "21ebaa98",
   "metadata": {},
   "outputs": [],
   "source": [
    "demo = pd.read_csv(demo_data_path,low_memory=False)\n",
    "dep_weekly = pd.read_csv(dep_data_path,low_memory=False)\n",
    "dep_endterm = pd.read_csv(dep_bdi_data_path,low_memory=False)\n",
    "\n",
    "with open(ema_collection_time_path, 'r') as f:\n",
    "    ema_collection_time = json.load(f)"
   ]
  },
  {
   "cell_type": "code",
   "execution_count": 4,
   "id": "a82a1da0",
   "metadata": {},
   "outputs": [],
   "source": [
    "def trim_data(data, phase):\n",
    "    \"\"\"\n",
    "    This function is to extract the data in a specific time period, e.g., Spring quarter.\n",
    "    \"\"\"\n",
    "    if phase == '1':\n",
    "        start_date_spr = '2018-03-26'\n",
    "        end_date_spr = '2018-06-03'\n",
    "    if phase == '2':\n",
    "        start_date_spr = '2019-04-01'\n",
    "        end_date_spr = '2019-06-07'\n",
    "    if phase == '3':\n",
    "        start_date_spr = '2020-03-29'\n",
    "        end_date_spr = '2020-06-05'\n",
    "    if phase == '4':\n",
    "        start_date_spr = '2021-03-28'\n",
    "        end_date_spr = '2021-06-04'\n",
    "    print('Only use data between {} and {}.'.format(start_date_spr, end_date_spr))\n",
    "    data_spr = data[data['date'].between(start_date_spr, end_date_spr)]\n",
    "    print('Done!')\n",
    "    print('\\n')\n",
    "    return data_spr"
   ]
  },
  {
   "cell_type": "code",
   "execution_count": 5,
   "id": "96c55a82",
   "metadata": {},
   "outputs": [],
   "source": [
    "def demo_preprocessing(data):\n",
    "    \n",
    "    data['gender_DEMO'] = data['gender_DEMO'] != 1\n",
    "    data['gender_DEMO'].replace({True: 1, False: 0}, inplace=True)\n",
    "    data['student_international_DEMO'] = data['student_international_DEMO'] != 0\n",
    "    data['student_international_DEMO'].replace({True: 1, False: 0}, inplace=True)\n",
    "    data['student_1stGen_DEMO'] = data['student_1stGen_DEMO'] != 0\n",
    "    data['student_1stGen_DEMO'].replace({True: 1, False: 0}, inplace=True)\n",
    "    data['gender_DEMO'].replace({1:'non-male',0:'male'},inplace=True)\n",
    "    data['orientation_heterosexual_DEMO'].replace({1:'heterosexual',0:'non-heterosexual'},inplace=True)\n",
    "    data['student_international_DEMO'].replace({1:'international',0:'non-international'},inplace=True)\n",
    "    data['student_1stGen_DEMO'].replace({1:'first-gen',0:'non-first-gen'},inplace=True)\n",
    "    data['parent_edu_mother_DEMO'].replace({1:'bachelor and above',0:'below bachelor'},inplace=True)\n",
    "    data['parent_edu_father_DEMO'].replace({1:'bachelor and above',0:'below bachelor'},inplace=True)\n",
    "    data['generation_DEMO'].replace({1:'immigrant',0:'non-immigrant'},inplace=True)\n",
    "    data['race_asian_DEMO'] = (data['race_DEMO'] == 'Asian').replace({True:'asian',False:'non-asian'})\n",
    "    data['race_black_DEMO'] = (data['race_DEMO'] == 'Black').replace({True:'black',False:'non-black'})\n",
    "    data['race_white_DEMO'] = (data['race_DEMO'] == 'White').replace({True:'white',False:'non-white'})\n",
    "    data['race_latinx_DEMO'] = (data['race_DEMO'] == 'Latinx').replace({True:'latinx',False:'non-latinx'})\n",
    "    data['race_biracial_DEMO'] = (data['race_DEMO'] == 'Biracial').replace({True:'biracial',False:'non-biracial'})\n",
    "    if phase == '1':\n",
    "        data['college_engineer_DEMO'].replace({1:'engineering',0:'non-engineering'},inplace=True)\n",
    "    else:\n",
    "        data['disability_DEMO'].replace({1:'disabled',0:'non-disabled'},inplace=True)\n",
    "    \n",
    "    data = data.set_index('pid')\n",
    "    data.rename(columns = {col: '_'.join(col.split('_')[:-1]) for col in data.columns}, inplace=True)\n",
    "    if phase == '1':\n",
    "        data = data.rename(columns={'orientation_heterosexual':'orientation','student_international':'international student',\n",
    "                 'student_1stGen': 'first-gen student','parent_edu_mother':\"mom's edu\",'parent_edu_father':\"dad's edu\",\n",
    "                                    'race_asian': 'asian', 'race_black': 'black', 'race_white': 'white', 'race_latinx': 'latinx', 'race_biracial': 'biracial',\n",
    "                                   'college_engineer':'college'})\n",
    "        data.drop(columns='college',inplace=True) # comment out if the analysis of college is needed\n",
    "    else:\n",
    "        data = data.rename(columns={'orientation_heterosexual':'orientation','student_international':'international student',\n",
    "                                    'race_asian': 'asian', 'race_black': 'black', 'race_white': 'white', 'race_latinx': 'latinx', 'race_biracial': 'biracial',\n",
    "                 'student_1stGen': 'first-gen student','parent_edu_mother':\"mom's edu\",'parent_edu_father':\"dad's edu\"})\n",
    "        data.drop(columns='disability',inplace=True) # comment out if the analysis of disability is needed\n",
    "    \n",
    "    return data.reset_index('pid')"
   ]
  },
  {
   "cell_type": "code",
   "execution_count": 6,
   "id": "7ca111c8",
   "metadata": {},
   "outputs": [],
   "source": [
    "demo = demo_preprocessing(demo)"
   ]
  },
  {
   "cell_type": "code",
   "execution_count": 7,
   "id": "d02f2da0",
   "metadata": {},
   "outputs": [
    {
     "name": "stdout",
     "output_type": "stream",
     "text": [
      "Only use data between 2019-04-01 and 2019-06-07.\n",
      "Done!\n",
      "\n",
      "\n"
     ]
    }
   ],
   "source": [
    "dep_weekly = trim_data(dep_weekly,phase)"
   ]
  },
  {
   "cell_type": "code",
   "execution_count": 8,
   "id": "0a963a55",
   "metadata": {},
   "outputs": [
    {
     "name": "stdout",
     "output_type": "stream",
     "text": [
      "9 demographics to compare.\n"
     ]
    }
   ],
   "source": [
    "demo_cols = demo.set_index(['pid','black','asian','latinx','international student']).columns.tolist()\n",
    "print(f'{len(demo_cols)} demographics to compare.')"
   ]
  },
  {
   "cell_type": "code",
   "execution_count": 9,
   "id": "c660ba97",
   "metadata": {},
   "outputs": [],
   "source": [
    "df_weekly = dep_weekly.merge(demo,on='pid',how='left')\n",
    "df_endterm = dep_endterm.merge(demo,on='pid',how='left')"
   ]
  },
  {
   "cell_type": "code",
   "execution_count": 10,
   "id": "b5faab04",
   "metadata": {},
   "outputs": [
    {
     "data": {
      "image/png": "[encoded data removed]",
      "text/plain": [
       "<Figure size 720x576 with 9 Axes>"
      ]
     },
     "metadata": {},
     "output_type": "display_data"
    }
   ],
   "source": [
    "fig, axes = plt.subplots(nrows=3,ncols=3,sharey='col',figsize=(10,8))\n",
    "\n",
    "idx = 0\n",
    "for i in range(3):\n",
    "    for j in range(3):\n",
    "        title = demo_cols[idx]\n",
    "        if demo_cols[idx] == 'gender':\n",
    "            order = ['non-male','male']\n",
    "        elif demo_cols[idx] == 'race':\n",
    "            order = ['Latinx','Asian','Black','Biracial','White']\n",
    "        elif demo_cols[idx] == 'orientation':\n",
    "            order = ['non-heterosexual','heterosexual']\n",
    "#         elif demo_cols[idx] == 'international student':\n",
    "#             order = ['international','non-international']\n",
    "        elif demo_cols[idx] == 'white':\n",
    "            order = ['non-white','white']\n",
    "        elif demo_cols[idx] == 'biracial':\n",
    "            order = ['biracial','non-biracial']\n",
    "        elif demo_cols[idx] == 'first-gen student':\n",
    "            order = ['first-gen', 'non-first-gen']\n",
    "        elif demo_cols[idx] == \"mom's edu\":\n",
    "            order = ['below bachelor', 'bachelor and above']\n",
    "        elif demo_cols[idx] == \"dad's edu\":\n",
    "            order = ['below bachelor', 'bachelor and above']\n",
    "        elif demo_cols[idx] == 'generation':\n",
    "            order = ['immigrant', 'non-immigrant']\n",
    "#         elif demo_cols[idx] == 'disability':\n",
    "#             order = ['disabled', 'non-disabled']\n",
    "#         elif demo_cols[idx] == 'college':\n",
    "#             order = ['engineering','non-engineering']\n",
    "#         lengths = \n",
    "        sns.boxplot(ax=axes[i][j], data=df_endterm, y='BDI2',x=demo_cols[idx], order=order, width=0.3)\n",
    "        axes[i][j].tick_params(axis='x', labelbottom=True)  \n",
    "        axes[i][j].axhline(y = 13, color = \"red\", linestyle = \":\", linewidth = 2)\n",
    "#         axes[i][j].set_xlabel('')\n",
    "        axes[i][j].set_ylabel('BDI-II Score',fontsize=12)\n",
    "        sns.despine(top=True, right=True, left=True, bottom=False)\n",
    "        plt.tight_layout()\n",
    "        idx+=1\n",
    "plt.savefig(root_path + \"vis/boxplot_BDI2.pdf\", dpi = 300, bbox_inches = \"tight\")\n",
    "# plt.show()"
   ]
  },
  {
   "cell_type": "markdown",
   "id": "933fbc9e",
   "metadata": {},
   "source": [
    "### Statistical Analysis"
   ]
  },
  {
   "cell_type": "code",
   "execution_count": 11,
   "id": "1179c0f7",
   "metadata": {},
   "outputs": [
    {
     "name": "stdout",
     "output_type": "stream",
     "text": [
      "non-male:102, 50.25%; male:101, 49.75%;\n",
      "heterosexual:188, 92.61%; non-heterosexual:15, 7.39%;\n",
      "non-first-gen:141, 69.46%; first-gen:62, 30.54%;\n",
      "below bachelor:81, 39.9%; bachelor and above:122, 60.1%;\n",
      "bachelor and above:125, 61.58%; below bachelor:78, 38.42%;\n",
      "non-immigrant:151, 74.38%; immigrant:52, 25.62%;\n",
      "white:68, 33.5%; non-white:135, 66.5%;\n",
      "non-biracial:181, 89.16%; biracial:22, 10.84%;\n"
     ]
    }
   ],
   "source": [
    "demo_cols.remove('race')\n",
    "stats_results = {}\n",
    "results = pd.DataFrame()\n",
    "for demo_col in demo_cols:\n",
    "    stats_results[demo_col] = {}\n",
    "    stats_results[demo_col]['stats'] = []\n",
    "    stats_results[demo_col]['p'] = []\n",
    "    df_endterm.dropna(axis=0,inplace=True)\n",
    "    group_mean = df_endterm[['BDI2']+[demo_col]].groupby(demo_col).mean().rename(columns={'BDI2':'mean'})\n",
    "    group_median = df_endterm[['BDI2']+[demo_col]].groupby(demo_col).median().rename(columns={'BDI2':'median'})\n",
    "    group_max = df_endterm[['BDI2']+[demo_col]].groupby(demo_col).max().rename(columns={'BDI2':'max'})\n",
    "    group_min = df_endterm[['BDI2']+[demo_col]].groupby(demo_col).min().rename(columns={'BDI2':'min'})\n",
    "    group_std = df_endterm[['BDI2']+[demo_col]].groupby(demo_col).std().rename(columns={'BDI2':'std'})\n",
    "    result = pd.concat([group_mean, group_median, group_max, group_min,group_std], axis=1).reset_index()\n",
    "    result.rename(columns={demo_col:'attributes'},inplace=True)\n",
    "    if results.shape[0] == 0:\n",
    "        results = result\n",
    "    else:\n",
    "        results = pd.concat([results,result],axis=0)\n",
    "    values = df_endterm['BDI2'].tolist()\n",
    "    group_labels = df_endterm[demo_col].tolist()   \n",
    "    if demo_col == 'race':\n",
    "        group_a = demo[demo_col].unique()[0]\n",
    "        group_b = demo[demo_col].unique()[1]\n",
    "        group_c = demo[demo_col].unique()[2]\n",
    "        group_d = demo[demo_col].unique()[3]\n",
    "        group_e = demo[demo_col].unique()[4]\n",
    "        if phase == '4':\n",
    "            group_f = demo[demo_col].unique()[5]\n",
    "            group_F = df_endterm[df_endterm[demo_col] == group_f]['BDI2']\n",
    "        group_A = df_endterm[df_endterm[demo_col] == group_a]['BDI2']\n",
    "        group_B = df_endterm[df_endterm[demo_col] == group_b]['BDI2']\n",
    "        group_C = df_endterm[df_endterm[demo_col] == group_c]['BDI2']\n",
    "        group_D = df_endterm[df_endterm[demo_col] == group_d]['BDI2']\n",
    "        group_E = df_endterm[df_endterm[demo_col] == group_e]['BDI2']\n",
    "        if phase != '4':\n",
    "            H,p = stats.kruskal(group_A, group_B, group_C, group_D, group_E)\n",
    "            print(f'{group_a}:{group_A.shape[0]}, {round(group_A.shape[0]/len(group_labels)*100,2)}%; {group_b}:{group_B.shape[0]},{round(group_B.shape[0]/len(group_labels)*100,2)}%; {group_c}:{group_C.shape[0]}, {round(group_C.shape[0]/len(group_labels)*100,2)}%; {group_d}:{group_D.shape[0]}, {round(group_D.shape[0]/len(group_labels)*100,2)}%; {group_e}:{group_E.shape[0]}, {round(group_E.shape[0]/len(group_labels)*100,2)}%')\n",
    "        else:\n",
    "            H,p = stats.kruskal(group_A, group_B, group_C, group_D, group_F)\n",
    "            print(f'{group_a}:{group_A.shape[0]}, {round(group_A.shape[0]/len(group_labels)*100,2)}%; {group_b}:{group_B.shape[0]}, {round(group_B.shape[0]/len(group_labels)*100,2)}%; {group_c}:{group_C.shape[0]},{round(group_C.shape[0]/len(group_labels)*100,2)}%; {group_d}:{group_D.shape[0]}, {round(group_D.shape[0]/len(group_labels)*100,2)}%; {group_f}:{group_F.shape[0]}, {round(group_F.shape[0]/len(group_labels)*100,2)}%;')\n",
    "    else:\n",
    "        group_a = demo[demo_col].unique()[0]\n",
    "        group_b = demo[demo_col].unique()[1]\n",
    "        group_A = df_endterm[df_endterm[demo_col] == group_a]['BDI2']\n",
    "        group_B = df_endterm[df_endterm[demo_col] == group_b]['BDI2']\n",
    "        print(f'{group_a}:{group_A.shape[0]}, {round(group_A.shape[0]/len(group_labels)*100,2)}%; {group_b}:{group_B.shape[0]}, {round(group_B.shape[0]/len(group_labels)*100,2)}%;')\n",
    "        H,p = stats.mannwhitneyu(group_A, group_B)\n",
    "#         H,p = stats.kruskal(group_A, group_B)\n",
    "    stats_results[demo_col]['stats'] = H\n",
    "    stats_results[demo_col]['p'] = p"
   ]
  },
  {
   "cell_type": "code",
   "execution_count": 12,
   "id": "da7b5a1f",
   "metadata": {},
   "outputs": [],
   "source": [
    "def bh_correction(df, alpha):\n",
    "    m = df.shape[0]\n",
    "    df['rank'] = df['p'].rank(method='average').astype('int')\n",
    "    df['p_corrected'] = (df['rank']/m) * alpha\n",
    "    df['sig'] = (df['p'] < 0.05)\n",
    "    df['sig'].replace({True: 'Y', False: 'N'},inplace=True)\n",
    "    df['sig_corrected'] = ((df['p'] <= df['p_corrected']) & (df['p'] < 0.05))\n",
    "    df['sig_corrected'].replace({True: 'Y', False: 'N'},inplace=True)\n",
    "    return df[['stats','p','sig','p_corrected','sig_corrected']]"
   ]
  },
  {
   "cell_type": "code",
   "execution_count": 13,
   "id": "47a82a3a",
   "metadata": {},
   "outputs": [],
   "source": [
    "df_results = pd.DataFrame(stats_results)\n",
    "df_results = df_results.T\n",
    "df_corrected_results = bh_correction(df_results,0.05)\n",
    "df_corrected_results.round(3).to_csv(root_path+'mixed-test.csv')\n",
    "results.round(2).to_csv(root_path+'descriptive_stats.csv',index=False)"
   ]
  },
  {
   "cell_type": "code",
   "execution_count": 14,
   "id": "54e0a1f3",
   "metadata": {},
   "outputs": [
    {
     "data": {
      "text/html": [
       "<div>\n",
       "<style scoped>\n",
       "    .dataframe tbody tr th:only-of-type {\n",
       "        vertical-align: middle;\n",
       "    }\n",
       "\n",
       "    .dataframe tbody tr th {\n",
       "        vertical-align: top;\n",
       "    }\n",
       "\n",
       "    .dataframe thead th {\n",
       "        text-align: right;\n",
       "    }\n",
       "</style>\n",
       "<table border=\"1\" class=\"dataframe\">\n",
       "  <thead>\n",
       "    <tr style=\"text-align: right;\">\n",
       "      <th></th>\n",
       "      <th>stats</th>\n",
       "      <th>p</th>\n",
       "      <th>sig</th>\n",
       "      <th>p_corrected</th>\n",
       "      <th>sig_corrected</th>\n",
       "    </tr>\n",
       "  </thead>\n",
       "  <tbody>\n",
       "    <tr>\n",
       "      <th>gender</th>\n",
       "      <td>6272.0</td>\n",
       "      <td>0.007370</td>\n",
       "      <td>Y</td>\n",
       "      <td>0.00625</td>\n",
       "      <td>N</td>\n",
       "    </tr>\n",
       "    <tr>\n",
       "      <th>orientation</th>\n",
       "      <td>1492.5</td>\n",
       "      <td>0.707798</td>\n",
       "      <td>N</td>\n",
       "      <td>0.05000</td>\n",
       "      <td>N</td>\n",
       "    </tr>\n",
       "    <tr>\n",
       "      <th>first-gen student</th>\n",
       "      <td>3351.5</td>\n",
       "      <td>0.008159</td>\n",
       "      <td>Y</td>\n",
       "      <td>0.01250</td>\n",
       "      <td>Y</td>\n",
       "    </tr>\n",
       "    <tr>\n",
       "      <th>mom's edu</th>\n",
       "      <td>5494.0</td>\n",
       "      <td>0.177311</td>\n",
       "      <td>N</td>\n",
       "      <td>0.03750</td>\n",
       "      <td>N</td>\n",
       "    </tr>\n",
       "    <tr>\n",
       "      <th>dad's edu</th>\n",
       "      <td>3867.0</td>\n",
       "      <td>0.013261</td>\n",
       "      <td>Y</td>\n",
       "      <td>0.01875</td>\n",
       "      <td>Y</td>\n",
       "    </tr>\n",
       "    <tr>\n",
       "      <th>generation</th>\n",
       "      <td>3074.5</td>\n",
       "      <td>0.019746</td>\n",
       "      <td>Y</td>\n",
       "      <td>0.02500</td>\n",
       "      <td>Y</td>\n",
       "    </tr>\n",
       "    <tr>\n",
       "      <th>white</th>\n",
       "      <td>3769.5</td>\n",
       "      <td>0.037765</td>\n",
       "      <td>Y</td>\n",
       "      <td>0.03125</td>\n",
       "      <td>N</td>\n",
       "    </tr>\n",
       "    <tr>\n",
       "      <th>biracial</th>\n",
       "      <td>2259.5</td>\n",
       "      <td>0.302593</td>\n",
       "      <td>N</td>\n",
       "      <td>0.04375</td>\n",
       "      <td>N</td>\n",
       "    </tr>\n",
       "  </tbody>\n",
       "</table>\n",
       "</div>"
      ],
      "text/plain": [
       "                    stats         p sig  p_corrected sig_corrected\n",
       "gender             6272.0  0.007370   Y      0.00625             N\n",
       "orientation        1492.5  0.707798   N      0.05000             N\n",
       "first-gen student  3351.5  0.008159   Y      0.01250             Y\n",
       "mom's edu          5494.0  0.177311   N      0.03750             N\n",
       "dad's edu          3867.0  0.013261   Y      0.01875             Y\n",
       "generation         3074.5  0.019746   Y      0.02500             Y\n",
       "white              3769.5  0.037765   Y      0.03125             N\n",
       "biracial           2259.5  0.302593   N      0.04375             N"
      ]
     },
     "execution_count": 14,
     "metadata": {},
     "output_type": "execute_result"
    }
   ],
   "source": [
    "df_corrected_results "
   ]
  },
  {
   "cell_type": "code",
   "execution_count": null,
   "id": "3996b721",
   "metadata": {},
   "outputs": [],
   "source": []
  }
 ],
 "metadata": {
  "kernelspec": {
   "display_name": "Python 3 (ipykernel)",
   "language": "python",
   "name": "python3"
  },
  "language_info": {
   "codemirror_mode": {
    "name": "ipython",
    "version": 3
   },
   "file_extension": ".py",
   "mimetype": "text/x-python",
   "name": "python",
   "nbconvert_exporter": "python",
   "pygments_lexer": "ipython3",
   "version": "3.8.6"
  }
 },
 "nbformat": 4,
 "nbformat_minor": 5
}
